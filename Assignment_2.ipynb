{
  "nbformat": 4,
  "nbformat_minor": 0,
  "metadata": {
    "colab": {
      "provenance": [],
      "include_colab_link": true
    },
    "kernelspec": {
      "name": "python3",
      "display_name": "Python 3"
    },
    "language_info": {
      "name": "python"
    }
  },
  "cells": [
    {
      "cell_type": "markdown",
      "metadata": {
        "id": "view-in-github",
        "colab_type": "text"
      },
      "source": [
        "<a href=\"https://colab.research.google.com/github/yeshwanth098/AIML/blob/main/Assignment_2.ipynb\" target=\"_parent\"><img src=\"https://colab.research.google.com/assets/colab-badge.svg\" alt=\"Open In Colab\"/></a>"
      ]
    },
    {
      "cell_type": "code",
      "execution_count": null,
      "metadata": {
        "colab": {
          "base_uri": "https://localhost:8080/"
        },
        "id": "LybZrRZ1OOXy",
        "outputId": "817408c4-1651-40da-db83-583b8954062d"
      },
      "outputs": [
        {
          "output_type": "stream",
          "name": "stdout",
          "text": [
            "Optimal solution found:\n",
            "Units of A to produce: 2.00\n",
            "Units of B to produce: 3.00\n",
            "Maximum profit: Rs 27.00\n"
          ]
        }
      ],
      "source": [
        "#Question_1\n",
        "from scipy.optimize import linprog\n",
        "\n",
        "# Coefficients of the objective function (negative for maximization)\n",
        "c = [-6, -5]\n",
        "\n",
        "# Coefficients of inequality constraints (LHS)\n",
        "A = [\n",
        "    [1, 1],   # Milk constraint\n",
        "    [3, 2]    # Choco constraint\n",
        "]\n",
        "\n",
        "# Right-hand side of inequality constraints\n",
        "b = [5, 12]\n",
        "\n",
        "# Bounds for variables (non-negativity)\n",
        "x0_bounds = (0, None)\n",
        "x1_bounds = (0, None)\n",
        "\n",
        "result = linprog(c, A_ub=A, b_ub=b, bounds=[x0_bounds, x1_bounds], method='highs')\n",
        "\n",
        "if result.success:\n",
        "    print(f\"Optimal solution found:\")\n",
        "    print(f\"Units of A to produce: {result.x[0]:.2f}\")\n",
        "    print(f\"Units of B to produce: {result.x[1]:.2f}\")\n",
        "    print(f\"Maximum profit: Rs {-result.fun:.2f}\")\n",
        "else:\n",
        "    print(\"No optimal solution found.\")"
      ]
    },
    {
      "cell_type": "code",
      "source": [
        "#Question_2\n",
        "from scipy.optimize import linprog\n",
        "\n",
        "# Coefficients of the objective function (negative for maximization)\n",
        "c = [-120, -50]  # Profit per hectare for Wheat and Barley (negative for maximization)\n",
        "\n",
        "# Coefficients of the inequality constraints (A_ub * x <= b_ub)\n",
        "A = [\n",
        "    [1, 1],          # Land constraint\n",
        "    [7000, 2000],    # Budget constraint\n",
        "    [10, 30]         # Labor constraint\n",
        "]\n",
        "b = [110, 700000, 1200]  # Right-hand side values for the constraints\n",
        "\n",
        "# Bounds for the variables (hectares cannot be negative)\n",
        "x_bounds = (0, None)  # Bounds for both x1 (Wheat) and x2 (Barley)\n",
        "bounds = [x_bounds, x_bounds]\n",
        "\n",
        "# Solve the linear programming problem using scipy.optimize.linprog\n",
        "result = linprog(c, A_ub=A, b_ub=b, bounds=bounds, method='highs')\n",
        "\n",
        "# Output the results\n",
        "if result.success:\n",
        "    print(\"Optimal Solution Found:\")\n",
        "    print(f\"Area allocated to Wheat (x1): {result.x[0]:.2f} hectares\")\n",
        "    print(f\"Area allocated to Barley (x2): {result.x[1]:.2f} hectares\")\n",
        "    print(f\"Maximum Profit: Rs. {-result.fun:.2f}\")\n",
        "else:\n",
        "    print(\"No optimal solution found.\")"
      ],
      "metadata": {
        "colab": {
          "base_uri": "https://localhost:8080/"
        },
        "id": "GwVkrWx6bJBK",
        "outputId": "46ac424a-72a9-416e-b82a-8ec53fb2713d"
      },
      "execution_count": null,
      "outputs": [
        {
          "output_type": "stream",
          "name": "stdout",
          "text": [
            "Optimal Solution Found:\n",
            "Area allocated to Wheat (x1): 97.89 hectares\n",
            "Area allocated to Barley (x2): 7.37 hectares\n",
            "Maximum Profit: Rs. 12115.79\n"
          ]
        }
      ]
    }
  ]
}